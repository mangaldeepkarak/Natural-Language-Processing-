{
 "cells": [
  {
   "cell_type": "code",
   "execution_count": 1,
   "id": "b83bc449",
   "metadata": {},
   "outputs": [],
   "source": [
    "import pandas as pd\n",
    "import numpy as np \n",
    "import seaborn as sns\n",
    "import matplotlib.pyplot as plt\n",
    "import nltk\n",
    "from sklearn.metrics import recall_score,precision_score,f1_score,accuracy_score,classification_report"
   ]
  },
  {
   "cell_type": "code",
   "execution_count": 2,
   "id": "88d5c384",
   "metadata": {},
   "outputs": [
    {
     "data": {
      "text/html": [
       "<div>\n",
       "<style scoped>\n",
       "    .dataframe tbody tr th:only-of-type {\n",
       "        vertical-align: middle;\n",
       "    }\n",
       "\n",
       "    .dataframe tbody tr th {\n",
       "        vertical-align: top;\n",
       "    }\n",
       "\n",
       "    .dataframe thead th {\n",
       "        text-align: right;\n",
       "    }\n",
       "</style>\n",
       "<table border=\"1\" class=\"dataframe\">\n",
       "  <thead>\n",
       "    <tr style=\"text-align: right;\">\n",
       "      <th></th>\n",
       "      <th>Unnamed: 0</th>\n",
       "      <th>title</th>\n",
       "      <th>text</th>\n",
       "      <th>label</th>\n",
       "    </tr>\n",
       "  </thead>\n",
       "  <tbody>\n",
       "    <tr>\n",
       "      <th>0</th>\n",
       "      <td>0</td>\n",
       "      <td>LAW ENFORCEMENT ON HIGH ALERT Following Threat...</td>\n",
       "      <td>No comment is expected from Barack Obama Membe...</td>\n",
       "      <td>1</td>\n",
       "    </tr>\n",
       "    <tr>\n",
       "      <th>1</th>\n",
       "      <td>1</td>\n",
       "      <td>NaN</td>\n",
       "      <td>Did they post their votes for Hillary already?</td>\n",
       "      <td>1</td>\n",
       "    </tr>\n",
       "    <tr>\n",
       "      <th>2</th>\n",
       "      <td>2</td>\n",
       "      <td>UNBELIEVABLE! OBAMA’S ATTORNEY GENERAL SAYS MO...</td>\n",
       "      <td>Now, most of the demonstrators gathered last ...</td>\n",
       "      <td>1</td>\n",
       "    </tr>\n",
       "    <tr>\n",
       "      <th>3</th>\n",
       "      <td>3</td>\n",
       "      <td>Bobby Jindal, raised Hindu, uses story of Chri...</td>\n",
       "      <td>A dozen politically active pastors came here f...</td>\n",
       "      <td>0</td>\n",
       "    </tr>\n",
       "    <tr>\n",
       "      <th>4</th>\n",
       "      <td>4</td>\n",
       "      <td>SATAN 2: Russia unvelis an image of its terrif...</td>\n",
       "      <td>The RS-28 Sarmat missile, dubbed Satan 2, will...</td>\n",
       "      <td>1</td>\n",
       "    </tr>\n",
       "  </tbody>\n",
       "</table>\n",
       "</div>"
      ],
      "text/plain": [
       "   Unnamed: 0                                              title  \\\n",
       "0           0  LAW ENFORCEMENT ON HIGH ALERT Following Threat...   \n",
       "1           1                                                NaN   \n",
       "2           2  UNBELIEVABLE! OBAMA’S ATTORNEY GENERAL SAYS MO...   \n",
       "3           3  Bobby Jindal, raised Hindu, uses story of Chri...   \n",
       "4           4  SATAN 2: Russia unvelis an image of its terrif...   \n",
       "\n",
       "                                                text  label  \n",
       "0  No comment is expected from Barack Obama Membe...      1  \n",
       "1     Did they post their votes for Hillary already?      1  \n",
       "2   Now, most of the demonstrators gathered last ...      1  \n",
       "3  A dozen politically active pastors came here f...      0  \n",
       "4  The RS-28 Sarmat missile, dubbed Satan 2, will...      1  "
      ]
     },
     "execution_count": 2,
     "metadata": {},
     "output_type": "execute_result"
    }
   ],
   "source": [
    "df=pd.read_csv(\"WELFake_Dataset.csv\")\n",
    "df.head()"
   ]
  },
  {
   "cell_type": "code",
   "execution_count": null,
   "id": "86bc2a3b",
   "metadata": {},
   "outputs": [],
   "source": []
  },
  {
   "cell_type": "code",
   "execution_count": 4,
   "id": "a391738a",
   "metadata": {},
   "outputs": [],
   "source": [
    "df['Word Count'] = df['text'].apply(lambda x: len(str(x).split(' '))) "
   ]
  },
  {
   "cell_type": "code",
   "execution_count": 5,
   "id": "946c5880",
   "metadata": {},
   "outputs": [
    {
     "data": {
      "text/html": [
       "<div>\n",
       "<style scoped>\n",
       "    .dataframe tbody tr th:only-of-type {\n",
       "        vertical-align: middle;\n",
       "    }\n",
       "\n",
       "    .dataframe tbody tr th {\n",
       "        vertical-align: top;\n",
       "    }\n",
       "\n",
       "    .dataframe thead th {\n",
       "        text-align: right;\n",
       "    }\n",
       "</style>\n",
       "<table border=\"1\" class=\"dataframe\">\n",
       "  <thead>\n",
       "    <tr style=\"text-align: right;\">\n",
       "      <th></th>\n",
       "      <th>text</th>\n",
       "      <th>Word Count</th>\n",
       "    </tr>\n",
       "  </thead>\n",
       "  <tbody>\n",
       "    <tr>\n",
       "      <th>0</th>\n",
       "      <td>No comment is expected from Barack Obama Membe...</td>\n",
       "      <td>941</td>\n",
       "    </tr>\n",
       "    <tr>\n",
       "      <th>1</th>\n",
       "      <td>Did they post their votes for Hillary already?</td>\n",
       "      <td>8</td>\n",
       "    </tr>\n",
       "    <tr>\n",
       "      <th>2</th>\n",
       "      <td>Now, most of the demonstrators gathered last ...</td>\n",
       "      <td>38</td>\n",
       "    </tr>\n",
       "    <tr>\n",
       "      <th>3</th>\n",
       "      <td>A dozen politically active pastors came here f...</td>\n",
       "      <td>1290</td>\n",
       "    </tr>\n",
       "    <tr>\n",
       "      <th>4</th>\n",
       "      <td>The RS-28 Sarmat missile, dubbed Satan 2, will...</td>\n",
       "      <td>329</td>\n",
       "    </tr>\n",
       "  </tbody>\n",
       "</table>\n",
       "</div>"
      ],
      "text/plain": [
       "                                                text  Word Count\n",
       "0  No comment is expected from Barack Obama Membe...         941\n",
       "1     Did they post their votes for Hillary already?           8\n",
       "2   Now, most of the demonstrators gathered last ...          38\n",
       "3  A dozen politically active pastors came here f...        1290\n",
       "4  The RS-28 Sarmat missile, dubbed Satan 2, will...         329"
      ]
     },
     "execution_count": 5,
     "metadata": {},
     "output_type": "execute_result"
    }
   ],
   "source": [
    "df[['text','Word Count']].head(5)"
   ]
  },
  {
   "cell_type": "code",
   "execution_count": 6,
   "id": "7ebabf0f",
   "metadata": {},
   "outputs": [
    {
     "data": {
      "image/png": "[encoded data removed]",
      "text/plain": [
       "<Figure size 2160x576 with 1 Axes>"
      ]
     },
     "metadata": {
      "needs_background": "light"
     },
     "output_type": "display_data"
    }
   ],
   "source": [
    "plt.figure(figsize=(30,8))\n",
    "sns.histplot(x='Word Count',data=df,hue='label',binrange=[0,2000],multiple='dodge')\n",
    "plt.ylabel('Number of words per label')\n",
    "plt.title('Distribution Of word count')\n",
    "plt.xlabel('Number of texts');"
   ]
  },
  {
   "cell_type": "markdown",
   "id": "0dbdbb3b",
   "metadata": {},
   "source": [
    "# Number of stopwords"
   ]
  },
  {
   "cell_type": "code",
   "execution_count": 7,
   "id": "5f79a086",
   "metadata": {},
   "outputs": [],
   "source": [
    "from nltk.corpus import stopwords"
   ]
  },
  {
   "cell_type": "code",
   "execution_count": 8,
   "id": "5b6086b5",
   "metadata": {},
   "outputs": [],
   "source": [
    "stop = stopwords.words('english')"
   ]
  },
  {
   "cell_type": "code",
   "execution_count": 9,
   "id": "b0fd9ec0",
   "metadata": {},
   "outputs": [],
   "source": [
    "df['Stop Words Count'] = df['text'].apply(lambda x:len([x for x in str(x).split() if x in stop]))"
   ]
  },
  {
   "cell_type": "code",
   "execution_count": 10,
   "id": "c58b9f47",
   "metadata": {},
   "outputs": [
    {
     "data": {
      "text/html": [
       "<div>\n",
       "<style scoped>\n",
       "    .dataframe tbody tr th:only-of-type {\n",
       "        vertical-align: middle;\n",
       "    }\n",
       "\n",
       "    .dataframe tbody tr th {\n",
       "        vertical-align: top;\n",
       "    }\n",
       "\n",
       "    .dataframe thead th {\n",
       "        text-align: right;\n",
       "    }\n",
       "</style>\n",
       "<table border=\"1\" class=\"dataframe\">\n",
       "  <thead>\n",
       "    <tr style=\"text-align: right;\">\n",
       "      <th></th>\n",
       "      <th>Unnamed: 0</th>\n",
       "      <th>title</th>\n",
       "      <th>text</th>\n",
       "      <th>label</th>\n",
       "      <th>Word Count</th>\n",
       "      <th>Stop Words Count</th>\n",
       "    </tr>\n",
       "  </thead>\n",
       "  <tbody>\n",
       "    <tr>\n",
       "      <th>0</th>\n",
       "      <td>0</td>\n",
       "      <td>LAW ENFORCEMENT ON HIGH ALERT Following Threat...</td>\n",
       "      <td>No comment is expected from Barack Obama Membe...</td>\n",
       "      <td>1</td>\n",
       "      <td>941</td>\n",
       "      <td>348</td>\n",
       "    </tr>\n",
       "    <tr>\n",
       "      <th>1</th>\n",
       "      <td>1</td>\n",
       "      <td>NaN</td>\n",
       "      <td>Did they post their votes for Hillary already?</td>\n",
       "      <td>1</td>\n",
       "      <td>8</td>\n",
       "      <td>3</td>\n",
       "    </tr>\n",
       "    <tr>\n",
       "      <th>2</th>\n",
       "      <td>2</td>\n",
       "      <td>UNBELIEVABLE! OBAMA’S ATTORNEY GENERAL SAYS MO...</td>\n",
       "      <td>Now, most of the demonstrators gathered last ...</td>\n",
       "      <td>1</td>\n",
       "      <td>38</td>\n",
       "      <td>12</td>\n",
       "    </tr>\n",
       "    <tr>\n",
       "      <th>3</th>\n",
       "      <td>3</td>\n",
       "      <td>Bobby Jindal, raised Hindu, uses story of Chri...</td>\n",
       "      <td>A dozen politically active pastors came here f...</td>\n",
       "      <td>0</td>\n",
       "      <td>1290</td>\n",
       "      <td>524</td>\n",
       "    </tr>\n",
       "    <tr>\n",
       "      <th>4</th>\n",
       "      <td>4</td>\n",
       "      <td>SATAN 2: Russia unvelis an image of its terrif...</td>\n",
       "      <td>The RS-28 Sarmat missile, dubbed Satan 2, will...</td>\n",
       "      <td>1</td>\n",
       "      <td>329</td>\n",
       "      <td>109</td>\n",
       "    </tr>\n",
       "  </tbody>\n",
       "</table>\n",
       "</div>"
      ],
      "text/plain": [
       "   Unnamed: 0                                              title  \\\n",
       "0           0  LAW ENFORCEMENT ON HIGH ALERT Following Threat...   \n",
       "1           1                                                NaN   \n",
       "2           2  UNBELIEVABLE! OBAMA’S ATTORNEY GENERAL SAYS MO...   \n",
       "3           3  Bobby Jindal, raised Hindu, uses story of Chri...   \n",
       "4           4  SATAN 2: Russia unvelis an image of its terrif...   \n",
       "\n",
       "                                                text  label  Word Count  \\\n",
       "0  No comment is expected from Barack Obama Membe...      1         941   \n",
       "1     Did they post their votes for Hillary already?      1           8   \n",
       "2   Now, most of the demonstrators gathered last ...      1          38   \n",
       "3  A dozen politically active pastors came here f...      0        1290   \n",
       "4  The RS-28 Sarmat missile, dubbed Satan 2, will...      1         329   \n",
       "\n",
       "   Stop Words Count  \n",
       "0               348  \n",
       "1                 3  \n",
       "2                12  \n",
       "3               524  \n",
       "4               109  "
      ]
     },
     "execution_count": 10,
     "metadata": {},
     "output_type": "execute_result"
    }
   ],
   "source": [
    "df.head(5)"
   ]
  },
  {
   "cell_type": "code",
   "execution_count": 11,
   "id": "65e34384",
   "metadata": {},
   "outputs": [
    {
     "data": {
      "image/png": "[encoded data removed]",
      "text/plain": [
       "<Figure size 2160x576 with 1 Axes>"
      ]
     },
     "metadata": {
      "needs_background": "light"
     },
     "output_type": "display_data"
    }
   ],
   "source": [
    "plt.figure(figsize=(30,8))\n",
    "sns.histplot(x=df['Stop Words Count'],data=df,hue='label',binrange=[0,800],multiple='dodge')\n",
    "plt.ylabel('Number of stop words per label')\n",
    "plt.title('Distribution Of stop word count')\n",
    "plt.xlabel('Number of texts');"
   ]
  },
  {
   "cell_type": "markdown",
   "id": "ec0537fb",
   "metadata": {},
   "source": [
    "# Preparing the Data"
   ]
  },
  {
   "cell_type": "code",
   "execution_count": 12,
   "id": "621b34f7",
   "metadata": {},
   "outputs": [],
   "source": [
    "df['text'] = df['text'].apply(lambda x:str(x).lower())"
   ]
  },
  {
   "cell_type": "code",
   "execution_count": 13,
   "id": "32c8afbe",
   "metadata": {},
   "outputs": [
    {
     "data": {
      "text/plain": [
       "0    no comment is expected from barack obama membe...\n",
       "1       did they post their votes for hillary already?\n",
       "2     now, most of the demonstrators gathered last ...\n",
       "3    a dozen politically active pastors came here f...\n",
       "4    the rs-28 sarmat missile, dubbed satan 2, will...\n",
       "Name: text, dtype: object"
      ]
     },
     "execution_count": 13,
     "metadata": {},
     "output_type": "execute_result"
    }
   ],
   "source": [
    "df.text.head(5)"
   ]
  },
  {
   "cell_type": "markdown",
   "id": "50d64381",
   "metadata": {},
   "source": [
    "# Removing the punctuation"
   ]
  },
  {
   "cell_type": "code",
   "execution_count": 14,
   "id": "09d27a39",
   "metadata": {},
   "outputs": [
    {
     "name": "stderr",
     "output_type": "stream",
     "text": [
      "<ipython-input-14-42e5f39fdf3f>:1: FutureWarning: The default value of regex will change from True to False in a future version.\n",
      "  df['text'] = df['text'].str.replace('[^\\w\\s]' ,' ')\n"
     ]
    }
   ],
   "source": [
    "df['text'] = df['text'].str.replace('[^\\w\\s]' ,' ')"
   ]
  },
  {
   "cell_type": "code",
   "execution_count": 15,
   "id": "02cf3911",
   "metadata": {},
   "outputs": [
    {
     "data": {
      "text/plain": [
       "0    no comment is expected from barack obama membe...\n",
       "1       did they post their votes for hillary already \n",
       "2     now  most of the demonstrators gathered last ...\n",
       "3    a dozen politically active pastors came here f...\n",
       "4    the rs 28 sarmat missile  dubbed satan 2  will...\n",
       "Name: text, dtype: object"
      ]
     },
     "execution_count": 15,
     "metadata": {},
     "output_type": "execute_result"
    }
   ],
   "source": [
    "df.text.head()"
   ]
  },
  {
   "cell_type": "markdown",
   "id": "a67c7a3a",
   "metadata": {},
   "source": [
    "# Removing the stopwords"
   ]
  },
  {
   "cell_type": "code",
   "execution_count": 16,
   "id": "329c7bb9",
   "metadata": {},
   "outputs": [],
   "source": [
    "df['text'] = df.text.apply(lambda x:' '.join(x for x in str(x).split() if x not in stop))"
   ]
  },
  {
   "cell_type": "code",
   "execution_count": 17,
   "id": "87a9d798",
   "metadata": {},
   "outputs": [
    {
     "data": {
      "text/plain": [
       "0    comment expected barack obama members fyf911 f...\n",
       "1                           post votes hillary already\n",
       "2    demonstrators gathered last night exercising c...\n",
       "3    dozen politically active pastors came private ...\n",
       "4    rs 28 sarmat missile dubbed satan 2 replace ss...\n",
       "Name: text, dtype: object"
      ]
     },
     "execution_count": 17,
     "metadata": {},
     "output_type": "execute_result"
    }
   ],
   "source": [
    "df.text.head(5)"
   ]
  },
  {
   "cell_type": "markdown",
   "id": "aa652c2d",
   "metadata": {},
   "source": [
    "# Removing top 10 common words"
   ]
  },
  {
   "cell_type": "code",
   "execution_count": 18,
   "id": "27a8df80",
   "metadata": {},
   "outputs": [],
   "source": [
    "freq  = pd.Series(' '.join(df['text']).split()).value_counts()[:10]"
   ]
  },
  {
   "cell_type": "code",
   "execution_count": 19,
   "id": "0008072a",
   "metadata": {},
   "outputs": [
    {
     "data": {
      "text/plain": [
       "said         234319\n",
       "trump        213565\n",
       "would        105615\n",
       "people        90445\n",
       "president     90282\n",
       "one           88700\n",
       "clinton       73980\n",
       "mr            72389\n",
       "u             72269\n",
       "new           70862\n",
       "dtype: int64"
      ]
     },
     "execution_count": 19,
     "metadata": {},
     "output_type": "execute_result"
    }
   ],
   "source": [
    "freq"
   ]
  },
  {
   "cell_type": "code",
   "execution_count": 20,
   "id": "ea3dfe6e",
   "metadata": {},
   "outputs": [],
   "source": [
    "df['text'] = df.text.apply(lambda x:' '.join(x for x in str(x).split() if x not in freq))"
   ]
  },
  {
   "cell_type": "code",
   "execution_count": 21,
   "id": "b0ad5fd5",
   "metadata": {},
   "outputs": [
    {
     "data": {
      "text/plain": [
       "0    comment expected barack obama members fyf911 f...\n",
       "1                           post votes hillary already\n",
       "2    demonstrators gathered last night exercising c...\n",
       "3    dozen politically active pastors came private ...\n",
       "4    rs 28 sarmat missile dubbed satan 2 replace ss...\n",
       "Name: text, dtype: object"
      ]
     },
     "execution_count": 21,
     "metadata": {},
     "output_type": "execute_result"
    }
   ],
   "source": [
    "df.text.head(5)"
   ]
  },
  {
   "cell_type": "markdown",
   "id": "d341be0b",
   "metadata": {},
   "source": [
    "# Removing Rarely occuring words"
   ]
  },
  {
   "cell_type": "code",
   "execution_count": 22,
   "id": "f65d21e5",
   "metadata": {},
   "outputs": [],
   "source": [
    "freq  = pd.Series(' '.join(df['text']).split()).value_counts()[-20:]"
   ]
  },
  {
   "cell_type": "code",
   "execution_count": 23,
   "id": "7867edb0",
   "metadata": {},
   "outputs": [
    {
     "data": {
      "text/plain": [
       "2016adele     1\n",
       "prihodko      1\n",
       "sotschi       1\n",
       "trickeries    1\n",
       "euston        1\n",
       "picaridin     1\n",
       "duramadera    1\n",
       "инцидента     1\n",
       "bendell       1\n",
       "lutes         1\n",
       "kuaşi         1\n",
       "allport       1\n",
       "misoff        1\n",
       "tamps         1\n",
       "fci           1\n",
       "scottjos      1\n",
       "coneixença    1\n",
       "arriesgar     1\n",
       "haiquan       1\n",
       "jamoul        1\n",
       "dtype: int64"
      ]
     },
     "execution_count": 23,
     "metadata": {},
     "output_type": "execute_result"
    }
   ],
   "source": [
    "freq"
   ]
  },
  {
   "cell_type": "code",
   "execution_count": 24,
   "id": "29ed22f9",
   "metadata": {},
   "outputs": [],
   "source": [
    "rare_freq = freq[-25:]"
   ]
  },
  {
   "cell_type": "code",
   "execution_count": 25,
   "id": "6a2e7cfe",
   "metadata": {},
   "outputs": [],
   "source": [
    "df['text'] = df.text.apply(lambda x:' '.join(x for x in str(x).split() if x not in rare_freq))"
   ]
  },
  {
   "cell_type": "code",
   "execution_count": 26,
   "id": "623ebffb",
   "metadata": {},
   "outputs": [
    {
     "data": {
      "text/html": [
       "<div>\n",
       "<style scoped>\n",
       "    .dataframe tbody tr th:only-of-type {\n",
       "        vertical-align: middle;\n",
       "    }\n",
       "\n",
       "    .dataframe tbody tr th {\n",
       "        vertical-align: top;\n",
       "    }\n",
       "\n",
       "    .dataframe thead th {\n",
       "        text-align: right;\n",
       "    }\n",
       "</style>\n",
       "<table border=\"1\" class=\"dataframe\">\n",
       "  <thead>\n",
       "    <tr style=\"text-align: right;\">\n",
       "      <th></th>\n",
       "      <th>Unnamed: 0</th>\n",
       "      <th>title</th>\n",
       "      <th>text</th>\n",
       "      <th>label</th>\n",
       "      <th>Word Count</th>\n",
       "      <th>Stop Words Count</th>\n",
       "    </tr>\n",
       "  </thead>\n",
       "  <tbody>\n",
       "    <tr>\n",
       "      <th>0</th>\n",
       "      <td>0</td>\n",
       "      <td>LAW ENFORCEMENT ON HIGH ALERT Following Threat...</td>\n",
       "      <td>comment expected barack obama members fyf911 f...</td>\n",
       "      <td>1</td>\n",
       "      <td>941</td>\n",
       "      <td>348</td>\n",
       "    </tr>\n",
       "    <tr>\n",
       "      <th>1</th>\n",
       "      <td>1</td>\n",
       "      <td>NaN</td>\n",
       "      <td>post votes hillary already</td>\n",
       "      <td>1</td>\n",
       "      <td>8</td>\n",
       "      <td>3</td>\n",
       "    </tr>\n",
       "    <tr>\n",
       "      <th>2</th>\n",
       "      <td>2</td>\n",
       "      <td>UNBELIEVABLE! OBAMA’S ATTORNEY GENERAL SAYS MO...</td>\n",
       "      <td>demonstrators gathered last night exercising c...</td>\n",
       "      <td>1</td>\n",
       "      <td>38</td>\n",
       "      <td>12</td>\n",
       "    </tr>\n",
       "    <tr>\n",
       "      <th>3</th>\n",
       "      <td>3</td>\n",
       "      <td>Bobby Jindal, raised Hindu, uses story of Chri...</td>\n",
       "      <td>dozen politically active pastors came private ...</td>\n",
       "      <td>0</td>\n",
       "      <td>1290</td>\n",
       "      <td>524</td>\n",
       "    </tr>\n",
       "    <tr>\n",
       "      <th>4</th>\n",
       "      <td>4</td>\n",
       "      <td>SATAN 2: Russia unvelis an image of its terrif...</td>\n",
       "      <td>rs 28 sarmat missile dubbed satan 2 replace ss...</td>\n",
       "      <td>1</td>\n",
       "      <td>329</td>\n",
       "      <td>109</td>\n",
       "    </tr>\n",
       "  </tbody>\n",
       "</table>\n",
       "</div>"
      ],
      "text/plain": [
       "   Unnamed: 0                                              title  \\\n",
       "0           0  LAW ENFORCEMENT ON HIGH ALERT Following Threat...   \n",
       "1           1                                                NaN   \n",
       "2           2  UNBELIEVABLE! OBAMA’S ATTORNEY GENERAL SAYS MO...   \n",
       "3           3  Bobby Jindal, raised Hindu, uses story of Chri...   \n",
       "4           4  SATAN 2: Russia unvelis an image of its terrif...   \n",
       "\n",
       "                                                text  label  Word Count  \\\n",
       "0  comment expected barack obama members fyf911 f...      1         941   \n",
       "1                         post votes hillary already      1           8   \n",
       "2  demonstrators gathered last night exercising c...      1          38   \n",
       "3  dozen politically active pastors came private ...      0        1290   \n",
       "4  rs 28 sarmat missile dubbed satan 2 replace ss...      1         329   \n",
       "\n",
       "   Stop Words Count  \n",
       "0               348  \n",
       "1                 3  \n",
       "2                12  \n",
       "3               524  \n",
       "4               109  "
      ]
     },
     "execution_count": 26,
     "metadata": {},
     "output_type": "execute_result"
    }
   ],
   "source": [
    "df.head(5)"
   ]
  },
  {
   "cell_type": "code",
   "execution_count": null,
   "id": "81cd7f79",
   "metadata": {},
   "outputs": [],
   "source": []
  },
  {
   "cell_type": "code",
   "execution_count": null,
   "id": "ae1502a4",
   "metadata": {},
   "outputs": [],
   "source": []
  },
  {
   "cell_type": "markdown",
   "id": "90972175",
   "metadata": {},
   "source": [
    "# Let's now compare the data after preprocessing"
   ]
  },
  {
   "cell_type": "code",
   "execution_count": 27,
   "id": "d49cefa5",
   "metadata": {},
   "outputs": [],
   "source": [
    "df['Word Count'] = df['text'].apply(lambda x: len(str(x).split(' '))) "
   ]
  },
  {
   "cell_type": "code",
   "execution_count": 28,
   "id": "c5eb56ef",
   "metadata": {},
   "outputs": [
    {
     "data": {
      "image/png": "[encoded data removed]",
      "text/plain": [
       "<Figure size 2160x576 with 1 Axes>"
      ]
     },
     "metadata": {
      "needs_background": "light"
     },
     "output_type": "display_data"
    }
   ],
   "source": [
    "plt.figure(figsize=(30,8))\n",
    "sns.histplot(x='Word Count',data=df,hue='label',binrange=[0,2000],multiple='dodge')\n",
    "plt.ylabel('Number of words per label')\n",
    "plt.title('Distribution Of word count')\n",
    "plt.xlabel('Number of texts');"
   ]
  },
  {
   "cell_type": "code",
   "execution_count": 29,
   "id": "b8489a39",
   "metadata": {},
   "outputs": [],
   "source": [
    "df['Stop Words Count'] = df['text'].apply(lambda x:len([x for x in str(x).split() if x in stop]))"
   ]
  },
  {
   "cell_type": "code",
   "execution_count": 30,
   "id": "6848f4ed",
   "metadata": {},
   "outputs": [
    {
     "data": {
      "image/png": "[encoded data removed]",
      "text/plain": [
       "<Figure size 432x288 with 1 Axes>"
      ]
     },
     "metadata": {
      "needs_background": "light"
     },
     "output_type": "display_data"
    }
   ],
   "source": [
    "sns.histplot(x=df['Stop Words Count'],data=df,hue='label',binrange=[0,800],multiple='dodge')\n",
    "plt.ylabel('Number of stop words per label')\n",
    "plt.title('Distribution Of stop word count')\n",
    "plt.xlabel('Number of texts');"
   ]
  },
  {
   "cell_type": "markdown",
   "id": "74fbd389",
   "metadata": {},
   "source": [
    "# After Preprocessing"
   ]
  },
  {
   "cell_type": "code",
   "execution_count": 31,
   "id": "b32e38ae",
   "metadata": {},
   "outputs": [],
   "source": [
    "# !pip install wordcloud"
   ]
  },
  {
   "cell_type": "code",
   "execution_count": 32,
   "id": "7ae5a37e",
   "metadata": {},
   "outputs": [
    {
     "data": {
      "text/plain": [
       "0      comment expected barack obama members fyf911 f...\n",
       "1                             post votes hillary already\n",
       "2      demonstrators gathered last night exercising c...\n",
       "3      dozen politically active pastors came private ...\n",
       "4      rs 28 sarmat missile dubbed satan 2 replace ss...\n",
       "                             ...                        \n",
       "495    washington reuters washington judge ordered re...\n",
       "496    insane watch protests erupted chicago tuesday ...\n",
       "497    reuters power outages hurricane irma dropped 6...\n",
       "498    nordstrom yesterday salesperson asked teenage ...\n",
       "499    moscow reuters russia wednesday warned iraq ku...\n",
       "Name: text, Length: 500, dtype: object"
      ]
     },
     "execution_count": 32,
     "metadata": {},
     "output_type": "execute_result"
    }
   ],
   "source": [
    "df['text'][:500]"
   ]
  },
  {
   "cell_type": "code",
   "execution_count": 33,
   "id": "df3e1578",
   "metadata": {},
   "outputs": [
    {
     "data": {
      "image/png": "[encoded data removed]",
      "text/plain": [
       "<Figure size 720x720 with 1 Axes>"
      ]
     },
     "metadata": {
      "needs_background": "light"
     },
     "output_type": "display_data"
    }
   ],
   "source": [
    "from nltk.corpus import stopwords\n",
    "from nltk.tokenize import word_tokenize\n",
    "stop_words = set(stopwords.words('english'))\n",
    "from wordcloud import WordCloud\n",
    "import matplotlib.pyplot as plt\n",
    "def plot_cloud(wordcloud):\n",
    "    plt.figure(figsize=(10, 10))\n",
    "    plt.imshow(wordcloud)\n",
    "    plt.axis(\"off\");\n",
    "wordcloud = WordCloud(width = 1000, height = 500, stopwords=stop_words,\n",
    "                      max_words=100,background_color='#44C0D2', \n",
    "                      colormap=\"ocean\",  random_state=10).generate(str(df['text'][:20000]))\n",
    "plot_cloud(wordcloud)"
   ]
  },
  {
   "cell_type": "markdown",
   "id": "cb26cb22",
   "metadata": {},
   "source": [
    "# Identifying Input and Target Columns"
   ]
  },
  {
   "cell_type": "code",
   "execution_count": 34,
   "id": "47a7b27c",
   "metadata": {},
   "outputs": [
    {
     "name": "stdout",
     "output_type": "stream",
     "text": [
      "<class 'pandas.core.frame.DataFrame'>\n",
      "RangeIndex: 72134 entries, 0 to 72133\n",
      "Data columns (total 6 columns):\n",
      " #   Column            Non-Null Count  Dtype \n",
      "---  ------            --------------  ----- \n",
      " 0   Unnamed: 0        72134 non-null  int64 \n",
      " 1   title             71576 non-null  object\n",
      " 2   text              72134 non-null  object\n",
      " 3   label             72134 non-null  int64 \n",
      " 4   Word Count        72134 non-null  int64 \n",
      " 5   Stop Words Count  72134 non-null  int64 \n",
      "dtypes: int64(4), object(2)\n",
      "memory usage: 3.3+ MB\n"
     ]
    }
   ],
   "source": [
    "df.info()\n"
   ]
  },
  {
   "cell_type": "code",
   "execution_count": 35,
   "id": "48de5ed2",
   "metadata": {},
   "outputs": [
    {
     "data": {
      "text/plain": [
       "(72134, 6)"
      ]
     },
     "execution_count": 35,
     "metadata": {},
     "output_type": "execute_result"
    }
   ],
   "source": [
    "df.shape"
   ]
  },
  {
   "cell_type": "code",
   "execution_count": 36,
   "id": "a88c8334",
   "metadata": {},
   "outputs": [],
   "source": [
    "input_cols = ['text']"
   ]
  },
  {
   "cell_type": "code",
   "execution_count": 37,
   "id": "19289c49",
   "metadata": {},
   "outputs": [],
   "source": [
    "target_col = 'label'"
   ]
  },
  {
   "cell_type": "code",
   "execution_count": 38,
   "id": "5d0a982b",
   "metadata": {},
   "outputs": [],
   "source": [
    "inputs = df[input_cols].copy()\n",
    "targets = df[target_col].copy()"
   ]
  },
  {
   "cell_type": "code",
   "execution_count": 39,
   "id": "3a28845e",
   "metadata": {},
   "outputs": [
    {
     "name": "stderr",
     "output_type": "stream",
     "text": [
      "[nltk_data] Downloading package wordnet to\n",
      "[nltk_data]     C:\\Users\\manga\\AppData\\Roaming\\nltk_data...\n",
      "[nltk_data]   Package wordnet is already up-to-date!\n"
     ]
    },
    {
     "data": {
      "text/plain": [
       "True"
      ]
     },
     "execution_count": 39,
     "metadata": {},
     "output_type": "execute_result"
    }
   ],
   "source": [
    "nltk.download('wordnet')"
   ]
  },
  {
   "cell_type": "code",
   "execution_count": 40,
   "id": "c86899fc",
   "metadata": {},
   "outputs": [],
   "source": [
    "#Building corpus out of text data takes a lot of time, I have build the corpus and stored in pickle file\n",
    "#so simply read from the same \n",
    "\n",
    "from nltk.stem import WordNetLemmatizer\n",
    "from nltk.corpus import stopwords\n",
    "from nltk.stem import PorterStemmer\n",
    "\n",
    "stemmer = PorterStemmer()\n",
    "lemmatizer = WordNetLemmatizer()\n",
    "import re\n",
    "\n",
    "corpus = []\n",
    "for i in range(0, len(df)):\n",
    "    review = re.sub('[^a-zA-Z]', ' ', str(df['text'][i]))\n",
    "\n",
    "    review = str(df['text'][i]).replace('[^\\w\\s]' ,' ')\n",
    "\n",
    "    review = review.lower()\n",
    "    review = review.split()\n",
    "\n",
    "    review = [stemmer.stem(word) for word in review if not word in stopwords.words('english')]\n",
    "    review = ' '.join(review)\n",
    "    corpus.append(review)"
   ]
  },
  {
   "cell_type": "markdown",
   "id": "74e6ae21",
   "metadata": {},
   "source": [
    "# Bag of Words"
   ]
  },
  {
   "cell_type": "code",
   "execution_count": 41,
   "id": "f40724db",
   "metadata": {},
   "outputs": [],
   "source": [
    "from sklearn.feature_extraction.text import CountVectorizer"
   ]
  },
  {
   "cell_type": "code",
   "execution_count": 42,
   "id": "77be346e",
   "metadata": {},
   "outputs": [],
   "source": [
    "bow = CountVectorizer(max_features=6000,analyzer='word',ngram_range=(1,2))"
   ]
  },
  {
   "cell_type": "code",
   "execution_count": 43,
   "id": "1c17cd15",
   "metadata": {},
   "outputs": [],
   "source": [
    "X = bow.fit_transform(corpus).toarray()"
   ]
  },
  {
   "cell_type": "code",
   "execution_count": 44,
   "id": "d7e9cd5a",
   "metadata": {},
   "outputs": [],
   "source": [
    "y = df[['label']].iloc[:,-1]"
   ]
  },
  {
   "cell_type": "markdown",
   "id": "c46b4084",
   "metadata": {},
   "source": [
    "# Devide The Data into Training and Testing data"
   ]
  },
  {
   "cell_type": "code",
   "execution_count": 45,
   "id": "84358bc7",
   "metadata": {},
   "outputs": [],
   "source": [
    "from sklearn.model_selection import train_test_split"
   ]
  },
  {
   "cell_type": "code",
   "execution_count": 46,
   "id": "1f73794b",
   "metadata": {},
   "outputs": [
    {
     "data": {
      "text/plain": [
       "6000"
      ]
     },
     "execution_count": 46,
     "metadata": {},
     "output_type": "execute_result"
    }
   ],
   "source": [
    "len(list(bow.get_feature_names_out()))"
   ]
  },
  {
   "cell_type": "code",
   "execution_count": 47,
   "id": "148accc8",
   "metadata": {},
   "outputs": [],
   "source": [
    "X_train, X_test, y_train, y_test = train_test_split(X, y, test_size=0.33, random_state=0)"
   ]
  },
  {
   "cell_type": "markdown",
   "id": "2f6491f6",
   "metadata": {},
   "source": [
    "# Logistic Regression"
   ]
  },
  {
   "cell_type": "code",
   "execution_count": 48,
   "id": "454a64ea",
   "metadata": {},
   "outputs": [],
   "source": [
    "from sklearn.linear_model import LogisticRegression"
   ]
  },
  {
   "cell_type": "code",
   "execution_count": 49,
   "id": "27d009b9",
   "metadata": {},
   "outputs": [],
   "source": [
    "model = LogisticRegression(random_state=42,solver='newton-cg',n_jobs=-1)"
   ]
  },
  {
   "cell_type": "code",
   "execution_count": 50,
   "id": "8293af04",
   "metadata": {},
   "outputs": [
    {
     "data": {
      "text/plain": [
       "LogisticRegression(n_jobs=-1, random_state=42, solver='newton-cg')"
      ]
     },
     "execution_count": 50,
     "metadata": {},
     "output_type": "execute_result"
    }
   ],
   "source": [
    "model.fit(X_train, y_train)"
   ]
  },
  {
   "cell_type": "code",
   "execution_count": 51,
   "id": "c58ebcc9",
   "metadata": {},
   "outputs": [],
   "source": [
    "lreg_preds = model.predict(X_test)"
   ]
  },
  {
   "cell_type": "code",
   "execution_count": 52,
   "id": "1dde496c",
   "metadata": {},
   "outputs": [
    {
     "data": {
      "text/plain": [
       "0.9470279353077085"
      ]
     },
     "execution_count": 52,
     "metadata": {},
     "output_type": "execute_result"
    }
   ],
   "source": [
    "accuracy_score(lreg_preds, y_test)"
   ]
  },
  {
   "cell_type": "code",
   "execution_count": 53,
   "id": "178b89a8",
   "metadata": {},
   "outputs": [
    {
     "name": "stdout",
     "output_type": "stream",
     "text": [
      "              precision    recall  f1-score   support\n",
      "\n",
      "           0       0.94      0.95      0.94     11331\n",
      "           1       0.96      0.94      0.95     12474\n",
      "\n",
      "    accuracy                           0.95     23805\n",
      "   macro avg       0.95      0.95      0.95     23805\n",
      "weighted avg       0.95      0.95      0.95     23805\n",
      "\n"
     ]
    }
   ],
   "source": [
    "print(classification_report(lreg_preds, y_test))"
   ]
  },
  {
   "cell_type": "code",
   "execution_count": 54,
   "id": "6896580a",
   "metadata": {},
   "outputs": [],
   "source": [
    "performance_df = pd.DataFrame({\n",
    "    'model': ['LogisticRegression'],\n",
    "    'accuracy_score': [accuracy_score(lreg_preds, y_test)],\n",
    "    'recall_score': [recall_score(lreg_preds, y_test)],\n",
    "    'precision_score': [precision_score(lreg_preds, y_test)],\n",
    "    'f1_score': [f1_score(lreg_preds, y_test)],\n",
    "})"
   ]
  },
  {
   "cell_type": "code",
   "execution_count": 55,
   "id": "9ab493be",
   "metadata": {},
   "outputs": [
    {
     "data": {
      "image/png": "[encoded data removed]",
      "text/plain": [
       "<Figure size 432x288 with 2 Axes>"
      ]
     },
     "metadata": {
      "needs_background": "light"
     },
     "output_type": "display_data"
    }
   ],
   "source": [
    "from sklearn.metrics import  confusion_matrix\n",
    "sns.heatmap(confusion_matrix(lreg_preds,y_test),annot=True,fmt='d');\n",
    "plt.xlabel('Actual Class')\n",
    "plt.ylabel('Predicted Class')\n",
    "plt.title('Confusion Matrix(LogisticRegression)');"
   ]
  },
  {
   "cell_type": "markdown",
   "id": "de5d0df0",
   "metadata": {},
   "source": [
    "# K-nearest Neighbourhood"
   ]
  },
  {
   "cell_type": "code",
   "execution_count": 56,
   "id": "b876f67e",
   "metadata": {},
   "outputs": [],
   "source": [
    "from sklearn.neighbors import KNeighborsClassifier"
   ]
  },
  {
   "cell_type": "code",
   "execution_count": null,
   "id": "02da361a",
   "metadata": {},
   "outputs": [],
   "source": [
    "from sklearn.neighbors import KNeighborsClassifier\n",
    "\n",
    "error_knn = []\n",
    "for i in range(1, 30):\n",
    " knn = KNeighborsClassifier(n_neighbors = i)\n",
    " knn.fit(X_train, y_train)\n",
    " pred_i = knn.predict(X_test)\n",
    " error_knn.append(np.mean(pred_i != y_test))\n",
    "\n",
    "plt.figure(figsize=(10, 5))\n",
    "plt.plot(range(1, 30), error_knn, color = 'blue', linestyle = 'dashed', marker = 'o')\n",
    "plt.title('Error vs. K Value')\n",
    "plt.xlabel('K')\n",
    "plt.ylabel('Error')"
   ]
  },
  {
   "cell_type": "code",
   "execution_count": null,
   "id": "03efce94",
   "metadata": {},
   "outputs": [],
   "source": [
    "k = error_knn.index(min(error_knn)) + 1\n",
    "k"
   ]
  },
  {
   "cell_type": "code",
   "execution_count": null,
   "id": "b1c85d68",
   "metadata": {},
   "outputs": [],
   "source": [
    "knn = KNeighborsClassifier(n_neighbors = k)\n",
    "knn.fit(X_train,y_train)\n",
    "knn_pred = knn.predict(X_test)\n",
    "knn_score = accuracy_score(y_test, knn_pred)"
   ]
  },
  {
   "cell_type": "code",
   "execution_count": null,
   "id": "408fcf98",
   "metadata": {},
   "outputs": [],
   "source": [
    "knn_accuracy=np.round((knn_score)*100,2)\n",
    "knn_accuracy"
   ]
  },
  {
   "cell_type": "code",
   "execution_count": null,
   "id": "85031125",
   "metadata": {},
   "outputs": [],
   "source": [
    "performance = {\n",
    "    'model': ['KNeighborsClassifier'],\n",
    "    'accuracy_score': [accuracy_score(knn_preds, y_test)],\n",
    "    'recall_score': [recall_score(knn_preds, y_test)],\n",
    "    'precision_score': [precision_score(test_preds, y_test)],\n",
    "    'f1_score': [f1_score(knn_preds, y_test)],\n",
    "}"
   ]
  },
  {
   "cell_type": "code",
   "execution_count": null,
   "id": "5ad6c760",
   "metadata": {},
   "outputs": [],
   "source": [
    "print(classification_report(knn_preds, y_test))"
   ]
  },
  {
   "cell_type": "code",
   "execution_count": null,
   "id": "56ab1d3e",
   "metadata": {},
   "outputs": [],
   "source": [
    "sns.heatmap(confusion_matrix(knn_preds,y_test),annot=True,fmt='d');\n",
    "plt.xlabel('Actual Class')\n",
    "plt.ylabel('Predicted Class')\n",
    "plt.title('Confusion Matrix(KNeighborsClassifier)');"
   ]
  },
  {
   "cell_type": "markdown",
   "id": "67eb5e9f",
   "metadata": {},
   "source": [
    "# Random Forest Classification"
   ]
  },
  {
   "cell_type": "code",
   "execution_count": null,
   "id": "300c6ab8",
   "metadata": {},
   "outputs": [],
   "source": [
    "from sklearn.ensemble import RandomForestClassifier"
   ]
  },
  {
   "cell_type": "code",
   "execution_count": null,
   "id": "9dd72c8b",
   "metadata": {},
   "outputs": [],
   "source": [
    "model = RandomForestClassifier(random_state=42,n_jobs=-1)"
   ]
  },
  {
   "cell_type": "code",
   "execution_count": null,
   "id": "bd9217fc",
   "metadata": {},
   "outputs": [],
   "source": [
    "model.fit(X_train,y_train)"
   ]
  },
  {
   "cell_type": "code",
   "execution_count": null,
   "id": "493170ac",
   "metadata": {},
   "outputs": [],
   "source": [
    "rf_preds = model.predict(X_test)"
   ]
  },
  {
   "cell_type": "code",
   "execution_count": null,
   "id": "4fdd62d0",
   "metadata": {},
   "outputs": [],
   "source": [
    "rf_score = accuracy_score(y_test, rf_pred)"
   ]
  },
  {
   "cell_type": "code",
   "execution_count": null,
   "id": "0ab6b799",
   "metadata": {},
   "outputs": [],
   "source": [
    "rf_accuracy=np.round((knn_score)*100,2)\n",
    "rf_accuracy"
   ]
  },
  {
   "cell_type": "code",
   "execution_count": null,
   "id": "d8b54185",
   "metadata": {},
   "outputs": [],
   "source": [
    "performance = {\n",
    "    'model': ['RandomForestClassifier'],\n",
    "    'accuracy_score': [accuracy_score(rf_preds, y_test)],\n",
    "    'recall_score': [recall_score(rf_preds, y_test)],\n",
    "    'precision_score': [precision_score(rf_preds, y_test)],\n",
    "    'f1_score': [f1_score(rf_preds, y_test)],\n",
    "}"
   ]
  },
  {
   "cell_type": "markdown",
   "id": "f8c5c71d",
   "metadata": {},
   "source": [
    "# Result"
   ]
  },
  {
   "cell_type": "code",
   "execution_count": null,
   "id": "7eedc18e",
   "metadata": {},
   "outputs": [],
   "source": [
    "models = pd.DataFrame({\n",
    "     'Model': [ 'K-Nearest Neighbors', 'Random Forest',\"Logistic regression\"],\n",
    "    'Score': [ knn_accuracy, rf_accuracy,lreg_accuracy]})\n",
    "models.sort_values(by='Score', ascending=False)"
   ]
  },
  {
   "cell_type": "code",
   "execution_count": null,
   "id": "a7609fd3",
   "metadata": {},
   "outputs": [],
   "source": []
  }
 ],
 "metadata": {
  "kernelspec": {
   "display_name": "Python 3",
   "language": "python",
   "name": "python3"
  },
  "language_info": {
   "codemirror_mode": {
    "name": "ipython",
    "version": 3
   },
   "file_extension": ".py",
   "mimetype": "text/x-python",
   "name": "python",
   "nbconvert_exporter": "python",
   "pygments_lexer": "ipython3",
   "version": "3.8.8"
  }
 },
 "nbformat": 4,
 "nbformat_minor": 5
}
